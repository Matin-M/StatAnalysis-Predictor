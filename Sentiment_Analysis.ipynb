{
  "nbformat": 4,
  "nbformat_minor": 0,
  "metadata": {
    "colab": {
      "provenance": []
    },
    "kernelspec": {
      "name": "python3",
      "display_name": "Python 3"
    },
    "language_info": {
      "name": "python"
    }
  },
  "cells": [
    {
      "cell_type": "code",
      "source": [
        "pip install transformers\n"
      ],
      "metadata": {
        "colab": {
          "base_uri": "https://localhost:8080/"
        },
        "id": "PDiFvFziWdIO",
        "outputId": "ac81213f-4354-4bdf-b1d5-304ff2cd9d70"
      },
      "execution_count": 203,
      "outputs": [
        {
          "output_type": "stream",
          "name": "stdout",
          "text": [
            "Looking in indexes: https://pypi.org/simple, https://us-python.pkg.dev/colab-wheels/public/simple/\n",
            "Requirement already satisfied: transformers in /usr/local/lib/python3.9/dist-packages (4.27.4)\n",
            "Requirement already satisfied: tqdm>=4.27 in /usr/local/lib/python3.9/dist-packages (from transformers) (4.65.0)\n",
            "Requirement already satisfied: regex!=2019.12.17 in /usr/local/lib/python3.9/dist-packages (from transformers) (2022.10.31)\n",
            "Requirement already satisfied: pyyaml>=5.1 in /usr/local/lib/python3.9/dist-packages (from transformers) (6.0)\n",
            "Requirement already satisfied: requests in /usr/local/lib/python3.9/dist-packages (from transformers) (2.27.1)\n",
            "Requirement already satisfied: huggingface-hub<1.0,>=0.11.0 in /usr/local/lib/python3.9/dist-packages (from transformers) (0.13.4)\n",
            "Requirement already satisfied: numpy>=1.17 in /usr/local/lib/python3.9/dist-packages (from transformers) (1.22.4)\n",
            "Requirement already satisfied: packaging>=20.0 in /usr/local/lib/python3.9/dist-packages (from transformers) (23.0)\n",
            "Requirement already satisfied: tokenizers!=0.11.3,<0.14,>=0.11.1 in /usr/local/lib/python3.9/dist-packages (from transformers) (0.13.3)\n",
            "Requirement already satisfied: filelock in /usr/local/lib/python3.9/dist-packages (from transformers) (3.11.0)\n",
            "Requirement already satisfied: typing-extensions>=3.7.4.3 in /usr/local/lib/python3.9/dist-packages (from huggingface-hub<1.0,>=0.11.0->transformers) (4.5.0)\n",
            "Requirement already satisfied: certifi>=2017.4.17 in /usr/local/lib/python3.9/dist-packages (from requests->transformers) (2022.12.7)\n",
            "Requirement already satisfied: charset-normalizer~=2.0.0 in /usr/local/lib/python3.9/dist-packages (from requests->transformers) (2.0.12)\n",
            "Requirement already satisfied: urllib3<1.27,>=1.21.1 in /usr/local/lib/python3.9/dist-packages (from requests->transformers) (1.26.15)\n",
            "Requirement already satisfied: idna<4,>=2.5 in /usr/local/lib/python3.9/dist-packages (from requests->transformers) (3.4)\n"
          ]
        }
      ]
    },
    {
      "cell_type": "code",
      "source": [
        "from tqdm import tqdm\n",
        "import datetime,holidays\n",
        "import numpy as np\n",
        "import yfinance as yf"
      ],
      "metadata": {
        "id": "FL40epSheBiB"
      },
      "execution_count": 204,
      "outputs": []
    },
    {
      "cell_type": "code",
      "source": [
        "import pandas as pd\n",
        "from transformers import AutoTokenizer, AutoModelForSequenceClassification\n",
        "tokenizer = AutoTokenizer.from_pretrained(\"ProsusAI/finbert\")\n",
        "model = AutoModelForSequenceClassification.from_pretrained(\"ProsusAI/finbert\")"
      ],
      "metadata": {
        "id": "X58i-ptoKtNi"
      },
      "execution_count": 205,
      "outputs": []
    },
    {
      "cell_type": "code",
      "execution_count": 206,
      "metadata": {
        "id": "RergkUfT9Bnl"
      },
      "outputs": [],
      "source": [
        "data1 = pd.read_csv('/content/drive/MyDrive/CSE572/analyst_ratings_processed.csv', index_col=0)\n",
        "datar = pd.read_csv('/content/drive/MyDrive/CSE572/raw_analyst_ratings.csv', index_col=0)"
      ]
    },
    {
      "cell_type": "code",
      "source": [
        "data1['stock'].value_counts()"
      ],
      "metadata": {
        "id": "oTWK_cMRFpVr",
        "colab": {
          "base_uri": "https://localhost:8080/"
        },
        "outputId": "eff1eacd-faaf-4f9f-8d0f-8a57b3b7f86b"
      },
      "execution_count": 207,
      "outputs": [
        {
          "output_type": "execute_result",
          "data": {
            "text/plain": [
              "MRK      3334\n",
              "MS       3242\n",
              "MU       3144\n",
              "NVDA     3133\n",
              "QQQ      3100\n",
              "         ... \n",
              "HAWKB       1\n",
              "GYEN        1\n",
              "GWX         1\n",
              "GWL         1\n",
              "FOIL        1\n",
              "Name: stock, Length: 6192, dtype: int64"
            ]
          },
          "metadata": {},
          "execution_count": 207
        }
      ]
    },
    {
      "cell_type": "code",
      "source": [
        "tickerSymbol = \"MRK\"\n",
        "data1.dropna(inplace = True)\n",
        "data1['date'] = data1['date'].apply(lambda x : x.split()[0])\n",
        "data2 = data1[data1['stock'] == tickerSymbol]"
      ],
      "metadata": {
        "id": "347bkfv0LF4R"
      },
      "execution_count": 208,
      "outputs": []
    },
    {
      "cell_type": "code",
      "source": [
        "data2"
      ],
      "metadata": {
        "colab": {
          "base_uri": "https://localhost:8080/",
          "height": 424
        },
        "id": "ei-Zec8wYGa-",
        "outputId": "5d327156-c819-4fd2-da12-454da6c2806a"
      },
      "execution_count": 209,
      "outputs": [
        {
          "output_type": "execute_result",
          "data": {
            "text/plain": [
              "                                                      title        date stock\n",
              "850715.0  Shares of several healthcare companies are tra...  2020-06-11   MRK\n",
              "850716.0  Johnson & Johnson To Start Coronavirus Vaccine...  2020-06-11   MRK\n",
              "850717.0  The Daily Biotech Pulse: Keytruda Setback For ...  2020-06-10   MRK\n",
              "850718.0  Merck Announces That The Phase 3 KEYNOTE-361 T...  2020-06-09   MRK\n",
              "850719.0  The Week Ahead In Biotech: Viela FDA Decision,...  2020-06-07   MRK\n",
              "...                                                     ...         ...   ...\n",
              "854069.0  BenchmarkJournal.com Free Analyst Review for A...  2009-08-17   MRK\n",
              "854070.0  Trends in the U.K. and Irish Pharmaceutical an...  2009-08-17   MRK\n",
              "854071.0  ParagonReport.com Complimentary Market Update ...  2009-08-10   MRK\n",
              "854072.0  ParagonReport.com Complimentary Market Update ...  2009-08-07   MRK\n",
              "854073.0  Wall Street News Alert:  Stocks This Morning: ...  2009-07-27   MRK\n",
              "\n",
              "[3334 rows x 3 columns]"
            ],
            "text/html": [
              "\n",
              "  <div id=\"df-89a3147c-de53-4d11-8cbe-479cfd83099d\">\n",
              "    <div class=\"colab-df-container\">\n",
              "      <div>\n",
              "<style scoped>\n",
              "    .dataframe tbody tr th:only-of-type {\n",
              "        vertical-align: middle;\n",
              "    }\n",
              "\n",
              "    .dataframe tbody tr th {\n",
              "        vertical-align: top;\n",
              "    }\n",
              "\n",
              "    .dataframe thead th {\n",
              "        text-align: right;\n",
              "    }\n",
              "</style>\n",
              "<table border=\"1\" class=\"dataframe\">\n",
              "  <thead>\n",
              "    <tr style=\"text-align: right;\">\n",
              "      <th></th>\n",
              "      <th>title</th>\n",
              "      <th>date</th>\n",
              "      <th>stock</th>\n",
              "    </tr>\n",
              "  </thead>\n",
              "  <tbody>\n",
              "    <tr>\n",
              "      <th>850715.0</th>\n",
              "      <td>Shares of several healthcare companies are tra...</td>\n",
              "      <td>2020-06-11</td>\n",
              "      <td>MRK</td>\n",
              "    </tr>\n",
              "    <tr>\n",
              "      <th>850716.0</th>\n",
              "      <td>Johnson &amp; Johnson To Start Coronavirus Vaccine...</td>\n",
              "      <td>2020-06-11</td>\n",
              "      <td>MRK</td>\n",
              "    </tr>\n",
              "    <tr>\n",
              "      <th>850717.0</th>\n",
              "      <td>The Daily Biotech Pulse: Keytruda Setback For ...</td>\n",
              "      <td>2020-06-10</td>\n",
              "      <td>MRK</td>\n",
              "    </tr>\n",
              "    <tr>\n",
              "      <th>850718.0</th>\n",
              "      <td>Merck Announces That The Phase 3 KEYNOTE-361 T...</td>\n",
              "      <td>2020-06-09</td>\n",
              "      <td>MRK</td>\n",
              "    </tr>\n",
              "    <tr>\n",
              "      <th>850719.0</th>\n",
              "      <td>The Week Ahead In Biotech: Viela FDA Decision,...</td>\n",
              "      <td>2020-06-07</td>\n",
              "      <td>MRK</td>\n",
              "    </tr>\n",
              "    <tr>\n",
              "      <th>...</th>\n",
              "      <td>...</td>\n",
              "      <td>...</td>\n",
              "      <td>...</td>\n",
              "    </tr>\n",
              "    <tr>\n",
              "      <th>854069.0</th>\n",
              "      <td>BenchmarkJournal.com Free Analyst Review for A...</td>\n",
              "      <td>2009-08-17</td>\n",
              "      <td>MRK</td>\n",
              "    </tr>\n",
              "    <tr>\n",
              "      <th>854070.0</th>\n",
              "      <td>Trends in the U.K. and Irish Pharmaceutical an...</td>\n",
              "      <td>2009-08-17</td>\n",
              "      <td>MRK</td>\n",
              "    </tr>\n",
              "    <tr>\n",
              "      <th>854071.0</th>\n",
              "      <td>ParagonReport.com Complimentary Market Update ...</td>\n",
              "      <td>2009-08-10</td>\n",
              "      <td>MRK</td>\n",
              "    </tr>\n",
              "    <tr>\n",
              "      <th>854072.0</th>\n",
              "      <td>ParagonReport.com Complimentary Market Update ...</td>\n",
              "      <td>2009-08-07</td>\n",
              "      <td>MRK</td>\n",
              "    </tr>\n",
              "    <tr>\n",
              "      <th>854073.0</th>\n",
              "      <td>Wall Street News Alert:  Stocks This Morning: ...</td>\n",
              "      <td>2009-07-27</td>\n",
              "      <td>MRK</td>\n",
              "    </tr>\n",
              "  </tbody>\n",
              "</table>\n",
              "<p>3334 rows × 3 columns</p>\n",
              "</div>\n",
              "      <button class=\"colab-df-convert\" onclick=\"convertToInteractive('df-89a3147c-de53-4d11-8cbe-479cfd83099d')\"\n",
              "              title=\"Convert this dataframe to an interactive table.\"\n",
              "              style=\"display:none;\">\n",
              "        \n",
              "  <svg xmlns=\"http://www.w3.org/2000/svg\" height=\"24px\"viewBox=\"0 0 24 24\"\n",
              "       width=\"24px\">\n",
              "    <path d=\"M0 0h24v24H0V0z\" fill=\"none\"/>\n",
              "    <path d=\"M18.56 5.44l.94 2.06.94-2.06 2.06-.94-2.06-.94-.94-2.06-.94 2.06-2.06.94zm-11 1L8.5 8.5l.94-2.06 2.06-.94-2.06-.94L8.5 2.5l-.94 2.06-2.06.94zm10 10l.94 2.06.94-2.06 2.06-.94-2.06-.94-.94-2.06-.94 2.06-2.06.94z\"/><path d=\"M17.41 7.96l-1.37-1.37c-.4-.4-.92-.59-1.43-.59-.52 0-1.04.2-1.43.59L10.3 9.45l-7.72 7.72c-.78.78-.78 2.05 0 2.83L4 21.41c.39.39.9.59 1.41.59.51 0 1.02-.2 1.41-.59l7.78-7.78 2.81-2.81c.8-.78.8-2.07 0-2.86zM5.41 20L4 18.59l7.72-7.72 1.47 1.35L5.41 20z\"/>\n",
              "  </svg>\n",
              "      </button>\n",
              "      \n",
              "  <style>\n",
              "    .colab-df-container {\n",
              "      display:flex;\n",
              "      flex-wrap:wrap;\n",
              "      gap: 12px;\n",
              "    }\n",
              "\n",
              "    .colab-df-convert {\n",
              "      background-color: #E8F0FE;\n",
              "      border: none;\n",
              "      border-radius: 50%;\n",
              "      cursor: pointer;\n",
              "      display: none;\n",
              "      fill: #1967D2;\n",
              "      height: 32px;\n",
              "      padding: 0 0 0 0;\n",
              "      width: 32px;\n",
              "    }\n",
              "\n",
              "    .colab-df-convert:hover {\n",
              "      background-color: #E2EBFA;\n",
              "      box-shadow: 0px 1px 2px rgba(60, 64, 67, 0.3), 0px 1px 3px 1px rgba(60, 64, 67, 0.15);\n",
              "      fill: #174EA6;\n",
              "    }\n",
              "\n",
              "    [theme=dark] .colab-df-convert {\n",
              "      background-color: #3B4455;\n",
              "      fill: #D2E3FC;\n",
              "    }\n",
              "\n",
              "    [theme=dark] .colab-df-convert:hover {\n",
              "      background-color: #434B5C;\n",
              "      box-shadow: 0px 1px 3px 1px rgba(0, 0, 0, 0.15);\n",
              "      filter: drop-shadow(0px 1px 2px rgba(0, 0, 0, 0.3));\n",
              "      fill: #FFFFFF;\n",
              "    }\n",
              "  </style>\n",
              "\n",
              "      <script>\n",
              "        const buttonEl =\n",
              "          document.querySelector('#df-89a3147c-de53-4d11-8cbe-479cfd83099d button.colab-df-convert');\n",
              "        buttonEl.style.display =\n",
              "          google.colab.kernel.accessAllowed ? 'block' : 'none';\n",
              "\n",
              "        async function convertToInteractive(key) {\n",
              "          const element = document.querySelector('#df-89a3147c-de53-4d11-8cbe-479cfd83099d');\n",
              "          const dataTable =\n",
              "            await google.colab.kernel.invokeFunction('convertToInteractive',\n",
              "                                                     [key], {});\n",
              "          if (!dataTable) return;\n",
              "\n",
              "          const docLinkHtml = 'Like what you see? Visit the ' +\n",
              "            '<a target=\"_blank\" href=https://colab.research.google.com/notebooks/data_table.ipynb>data table notebook</a>'\n",
              "            + ' to learn more about interactive tables.';\n",
              "          element.innerHTML = '';\n",
              "          dataTable['output_type'] = 'display_data';\n",
              "          await google.colab.output.renderOutput(dataTable, element);\n",
              "          const docLink = document.createElement('div');\n",
              "          docLink.innerHTML = docLinkHtml;\n",
              "          element.appendChild(docLink);\n",
              "        }\n",
              "      </script>\n",
              "    </div>\n",
              "  </div>\n",
              "  "
            ]
          },
          "metadata": {},
          "execution_count": 209
        }
      ]
    },
    {
      "cell_type": "code",
      "source": [
        "newData = {}\n",
        "total = data2['date'].nunique()\n",
        "for i in tqdm(data2[data2['stock']==tickerSymbol]['date'].unique()):\n",
        "    newData[i] = data2.loc[(data2['stock']==tickerSymbol) & (data2['date'] == i)]['title'].tolist()"
      ],
      "metadata": {
        "colab": {
          "base_uri": "https://localhost:8080/"
        },
        "id": "1o9K4-bhd2Se",
        "outputId": "2e880da0-1875-461d-8230-7b05b974fb9d"
      },
      "execution_count": 210,
      "outputs": [
        {
          "output_type": "stream",
          "name": "stderr",
          "text": [
            "100%|██████████| 1600/1600 [00:04<00:00, 392.99it/s]\n"
          ]
        }
      ]
    },
    {
      "cell_type": "code",
      "source": [
        "newData"
      ],
      "metadata": {
        "id": "3JDeVS2-2v6y"
      },
      "execution_count": null,
      "outputs": []
    },
    {
      "cell_type": "code",
      "source": [
        "import torch.nn.functional as F\n",
        "def Sentiment(doc):\n",
        "    pt_batch = tokenizer(doc,padding=True,truncation=True,max_length=512,return_tensors=\"pt\")\n",
        "    outputs = model(**pt_batch)\n",
        "    pt_predictions = F.softmax(outputs.logits, dim=-1)\n",
        "    return pt_predictions.detach().cpu().numpy()"
      ],
      "metadata": {
        "id": "ZWN83YZ5feZy"
      },
      "execution_count": 211,
      "outputs": []
    },
    {
      "cell_type": "code",
      "source": [
        "day = datetime.timedelta(days=1)\n",
        "hol = holidays.US()\n",
        "\n",
        "def next_trade(date_string):\n",
        "    date_obj = datetime.datetime.strptime(date_string, '%Y-%m-%d')\n",
        "    next_day = date_obj + day\n",
        "    while next_day.weekday() in holidays.WEEKEND or next_day in hol:\n",
        "        next_day += day\n",
        "    return next_day"
      ],
      "metadata": {
        "id": "_LEgt5LkfEP2"
      },
      "execution_count": 212,
      "outputs": []
    },
    {
      "cell_type": "code",
      "source": [
        "def findSentence(sentence_list):\n",
        "    sentiment_arr = np.mean(Sentiment(sentence_list), axis=0)\n",
        "    return {\n",
        "        'num_articles': len(sentence_list),\n",
        "        'positive': sentiment_arr[0],\n",
        "        'negative': sentiment_arr[1],\n",
        "        'neutral': sentiment_arr[2]\n",
        "    }"
      ],
      "metadata": {
        "id": "prY4ohAvfUEP"
      },
      "execution_count": 215,
      "outputs": []
    },
    {
      "cell_type": "code",
      "source": [
        "dateSentimentGroups = {}\n",
        "for i in tqdm(newData):\n",
        "    scores = findSentence(newData[i])\n",
        "    dateSentimentGroups[i] = scores"
      ],
      "metadata": {
        "colab": {
          "base_uri": "https://localhost:8080/"
        },
        "id": "5ASGdflcfW7i",
        "outputId": "1bff9f34-667a-417b-fc81-0013b2d85aae"
      },
      "execution_count": 216,
      "outputs": [
        {
          "output_type": "stream",
          "name": "stderr",
          "text": [
            "100%|██████████| 1600/1600 [08:34<00:00,  3.11it/s]\n"
          ]
        }
      ]
    },
    {
      "cell_type": "code",
      "source": [
        "ticker = yf.Ticker(tickerSymbol)\n",
        "hist = ticker.history(period=\"max\")\n",
        "hist"
      ],
      "metadata": {
        "id": "JuUW87iX2-v0"
      },
      "execution_count": null,
      "outputs": []
    },
    {
      "cell_type": "code",
      "source": [
        "\n",
        "data = []\n",
        "ticker = yf.Ticker(tickerSymbol)\n",
        "hist = ticker.history(period=\"max\")\n",
        "for i in tqdm(dateSentimentGroups):\n",
        "  start = i\n",
        "  nextDay = next_trade(start).strftime(\"%Y-%m-%d\")\n",
        "  try:\n",
        "    prevDay = hist.loc[start]\n",
        "    nextDay = hist.loc[nextDay]\n",
        "    row = [ \n",
        "            start,\n",
        "            dateSentimentGroups[i]['num_articles'], \n",
        "            dateSentimentGroups[i]['neutral'], \n",
        "            dateSentimentGroups[i]['positive'], \n",
        "            dateSentimentGroups[i]['negative'], \n",
        "            prevDay['Open'], \n",
        "            prevDay['Close'],\n",
        "    ]\n",
        "    data.append(row)\n",
        "  except:\n",
        "    pass"
      ],
      "metadata": {
        "colab": {
          "base_uri": "https://localhost:8080/"
        },
        "id": "Kxvoy0aCftRy",
        "outputId": "fe018546-1b1c-4332-9264-1bbace2c99c3"
      },
      "execution_count": 254,
      "outputs": [
        {
          "output_type": "stream",
          "name": "stderr",
          "text": [
            "100%|██████████| 1600/1600 [00:01<00:00, 1174.08it/s]\n"
          ]
        }
      ]
    },
    {
      "cell_type": "code",
      "source": [
        "df = pd.DataFrame(columns =['Date','numArticles', 'neutral', 'positive','negative','Open', 'Close'], data=data)"
      ],
      "metadata": {
        "id": "nNev1xphhLeo"
      },
      "execution_count": 255,
      "outputs": []
    },
    {
      "cell_type": "code",
      "source": [
        "df['Price Change'] = ['Up' if df['Close'][i] > df['Open'][i] else 'Down' for i in range(len(df))]"
      ],
      "metadata": {
        "id": "UGs9OYsXqxGH"
      },
      "execution_count": 257,
      "outputs": []
    },
    {
      "cell_type": "code",
      "source": [
        "df"
      ],
      "metadata": {
        "colab": {
          "base_uri": "https://localhost:8080/",
          "height": 424
        },
        "id": "TsshsVwEx5iy",
        "outputId": "c88c3a5c-d025-400b-cc0e-70e8f0019bd9"
      },
      "execution_count": 258,
      "outputs": [
        {
          "output_type": "execute_result",
          "data": {
            "text/plain": [
              "            Date  numArticles   neutral  positive  negative       Open  \\\n",
              "0     2020-06-11            2  0.423122  0.083263  0.493615  69.961703   \n",
              "1     2020-06-10            1  0.134605  0.092935  0.772460  71.372880   \n",
              "2     2020-06-09            1  0.443555  0.543354  0.013090  72.022187   \n",
              "3     2020-06-05            2  0.160842  0.825178  0.013980  71.087172   \n",
              "4     2020-06-04            2  0.494893  0.491230  0.013877  70.359947   \n",
              "...          ...          ...       ...       ...       ...        ...   \n",
              "1439  2009-09-18            1  0.820001  0.169416  0.010583  19.305168   \n",
              "1440  2009-08-17            2  0.924749  0.045792  0.029459  18.137875   \n",
              "1441  2009-08-10            1  0.938043  0.034597  0.027360  17.954133   \n",
              "1442  2009-08-07            1  0.937031  0.042642  0.020328  17.610342   \n",
              "1443  2009-07-27            1  0.925613  0.032246  0.042140  18.446095   \n",
              "\n",
              "          Close Price Change  \n",
              "0     66.966187         Down  \n",
              "1     70.792824         Down  \n",
              "2     71.217033         Down  \n",
              "3     71.217033           Up  \n",
              "4     70.602364           Up  \n",
              "...         ...          ...  \n",
              "1439  19.125195         Down  \n",
              "1440  18.303843           Up  \n",
              "1441  18.137882           Up  \n",
              "1442  17.841511           Up  \n",
              "1443  18.238636         Down  \n",
              "\n",
              "[1444 rows x 8 columns]"
            ],
            "text/html": [
              "\n",
              "  <div id=\"df-dbf0e865-c629-4d4b-aabb-ec12114eaa21\">\n",
              "    <div class=\"colab-df-container\">\n",
              "      <div>\n",
              "<style scoped>\n",
              "    .dataframe tbody tr th:only-of-type {\n",
              "        vertical-align: middle;\n",
              "    }\n",
              "\n",
              "    .dataframe tbody tr th {\n",
              "        vertical-align: top;\n",
              "    }\n",
              "\n",
              "    .dataframe thead th {\n",
              "        text-align: right;\n",
              "    }\n",
              "</style>\n",
              "<table border=\"1\" class=\"dataframe\">\n",
              "  <thead>\n",
              "    <tr style=\"text-align: right;\">\n",
              "      <th></th>\n",
              "      <th>Date</th>\n",
              "      <th>numArticles</th>\n",
              "      <th>neutral</th>\n",
              "      <th>positive</th>\n",
              "      <th>negative</th>\n",
              "      <th>Open</th>\n",
              "      <th>Close</th>\n",
              "      <th>Price Change</th>\n",
              "    </tr>\n",
              "  </thead>\n",
              "  <tbody>\n",
              "    <tr>\n",
              "      <th>0</th>\n",
              "      <td>2020-06-11</td>\n",
              "      <td>2</td>\n",
              "      <td>0.423122</td>\n",
              "      <td>0.083263</td>\n",
              "      <td>0.493615</td>\n",
              "      <td>69.961703</td>\n",
              "      <td>66.966187</td>\n",
              "      <td>Down</td>\n",
              "    </tr>\n",
              "    <tr>\n",
              "      <th>1</th>\n",
              "      <td>2020-06-10</td>\n",
              "      <td>1</td>\n",
              "      <td>0.134605</td>\n",
              "      <td>0.092935</td>\n",
              "      <td>0.772460</td>\n",
              "      <td>71.372880</td>\n",
              "      <td>70.792824</td>\n",
              "      <td>Down</td>\n",
              "    </tr>\n",
              "    <tr>\n",
              "      <th>2</th>\n",
              "      <td>2020-06-09</td>\n",
              "      <td>1</td>\n",
              "      <td>0.443555</td>\n",
              "      <td>0.543354</td>\n",
              "      <td>0.013090</td>\n",
              "      <td>72.022187</td>\n",
              "      <td>71.217033</td>\n",
              "      <td>Down</td>\n",
              "    </tr>\n",
              "    <tr>\n",
              "      <th>3</th>\n",
              "      <td>2020-06-05</td>\n",
              "      <td>2</td>\n",
              "      <td>0.160842</td>\n",
              "      <td>0.825178</td>\n",
              "      <td>0.013980</td>\n",
              "      <td>71.087172</td>\n",
              "      <td>71.217033</td>\n",
              "      <td>Up</td>\n",
              "    </tr>\n",
              "    <tr>\n",
              "      <th>4</th>\n",
              "      <td>2020-06-04</td>\n",
              "      <td>2</td>\n",
              "      <td>0.494893</td>\n",
              "      <td>0.491230</td>\n",
              "      <td>0.013877</td>\n",
              "      <td>70.359947</td>\n",
              "      <td>70.602364</td>\n",
              "      <td>Up</td>\n",
              "    </tr>\n",
              "    <tr>\n",
              "      <th>...</th>\n",
              "      <td>...</td>\n",
              "      <td>...</td>\n",
              "      <td>...</td>\n",
              "      <td>...</td>\n",
              "      <td>...</td>\n",
              "      <td>...</td>\n",
              "      <td>...</td>\n",
              "      <td>...</td>\n",
              "    </tr>\n",
              "    <tr>\n",
              "      <th>1439</th>\n",
              "      <td>2009-09-18</td>\n",
              "      <td>1</td>\n",
              "      <td>0.820001</td>\n",
              "      <td>0.169416</td>\n",
              "      <td>0.010583</td>\n",
              "      <td>19.305168</td>\n",
              "      <td>19.125195</td>\n",
              "      <td>Down</td>\n",
              "    </tr>\n",
              "    <tr>\n",
              "      <th>1440</th>\n",
              "      <td>2009-08-17</td>\n",
              "      <td>2</td>\n",
              "      <td>0.924749</td>\n",
              "      <td>0.045792</td>\n",
              "      <td>0.029459</td>\n",
              "      <td>18.137875</td>\n",
              "      <td>18.303843</td>\n",
              "      <td>Up</td>\n",
              "    </tr>\n",
              "    <tr>\n",
              "      <th>1441</th>\n",
              "      <td>2009-08-10</td>\n",
              "      <td>1</td>\n",
              "      <td>0.938043</td>\n",
              "      <td>0.034597</td>\n",
              "      <td>0.027360</td>\n",
              "      <td>17.954133</td>\n",
              "      <td>18.137882</td>\n",
              "      <td>Up</td>\n",
              "    </tr>\n",
              "    <tr>\n",
              "      <th>1442</th>\n",
              "      <td>2009-08-07</td>\n",
              "      <td>1</td>\n",
              "      <td>0.937031</td>\n",
              "      <td>0.042642</td>\n",
              "      <td>0.020328</td>\n",
              "      <td>17.610342</td>\n",
              "      <td>17.841511</td>\n",
              "      <td>Up</td>\n",
              "    </tr>\n",
              "    <tr>\n",
              "      <th>1443</th>\n",
              "      <td>2009-07-27</td>\n",
              "      <td>1</td>\n",
              "      <td>0.925613</td>\n",
              "      <td>0.032246</td>\n",
              "      <td>0.042140</td>\n",
              "      <td>18.446095</td>\n",
              "      <td>18.238636</td>\n",
              "      <td>Down</td>\n",
              "    </tr>\n",
              "  </tbody>\n",
              "</table>\n",
              "<p>1444 rows × 8 columns</p>\n",
              "</div>\n",
              "      <button class=\"colab-df-convert\" onclick=\"convertToInteractive('df-dbf0e865-c629-4d4b-aabb-ec12114eaa21')\"\n",
              "              title=\"Convert this dataframe to an interactive table.\"\n",
              "              style=\"display:none;\">\n",
              "        \n",
              "  <svg xmlns=\"http://www.w3.org/2000/svg\" height=\"24px\"viewBox=\"0 0 24 24\"\n",
              "       width=\"24px\">\n",
              "    <path d=\"M0 0h24v24H0V0z\" fill=\"none\"/>\n",
              "    <path d=\"M18.56 5.44l.94 2.06.94-2.06 2.06-.94-2.06-.94-.94-2.06-.94 2.06-2.06.94zm-11 1L8.5 8.5l.94-2.06 2.06-.94-2.06-.94L8.5 2.5l-.94 2.06-2.06.94zm10 10l.94 2.06.94-2.06 2.06-.94-2.06-.94-.94-2.06-.94 2.06-2.06.94z\"/><path d=\"M17.41 7.96l-1.37-1.37c-.4-.4-.92-.59-1.43-.59-.52 0-1.04.2-1.43.59L10.3 9.45l-7.72 7.72c-.78.78-.78 2.05 0 2.83L4 21.41c.39.39.9.59 1.41.59.51 0 1.02-.2 1.41-.59l7.78-7.78 2.81-2.81c.8-.78.8-2.07 0-2.86zM5.41 20L4 18.59l7.72-7.72 1.47 1.35L5.41 20z\"/>\n",
              "  </svg>\n",
              "      </button>\n",
              "      \n",
              "  <style>\n",
              "    .colab-df-container {\n",
              "      display:flex;\n",
              "      flex-wrap:wrap;\n",
              "      gap: 12px;\n",
              "    }\n",
              "\n",
              "    .colab-df-convert {\n",
              "      background-color: #E8F0FE;\n",
              "      border: none;\n",
              "      border-radius: 50%;\n",
              "      cursor: pointer;\n",
              "      display: none;\n",
              "      fill: #1967D2;\n",
              "      height: 32px;\n",
              "      padding: 0 0 0 0;\n",
              "      width: 32px;\n",
              "    }\n",
              "\n",
              "    .colab-df-convert:hover {\n",
              "      background-color: #E2EBFA;\n",
              "      box-shadow: 0px 1px 2px rgba(60, 64, 67, 0.3), 0px 1px 3px 1px rgba(60, 64, 67, 0.15);\n",
              "      fill: #174EA6;\n",
              "    }\n",
              "\n",
              "    [theme=dark] .colab-df-convert {\n",
              "      background-color: #3B4455;\n",
              "      fill: #D2E3FC;\n",
              "    }\n",
              "\n",
              "    [theme=dark] .colab-df-convert:hover {\n",
              "      background-color: #434B5C;\n",
              "      box-shadow: 0px 1px 3px 1px rgba(0, 0, 0, 0.15);\n",
              "      filter: drop-shadow(0px 1px 2px rgba(0, 0, 0, 0.3));\n",
              "      fill: #FFFFFF;\n",
              "    }\n",
              "  </style>\n",
              "\n",
              "      <script>\n",
              "        const buttonEl =\n",
              "          document.querySelector('#df-dbf0e865-c629-4d4b-aabb-ec12114eaa21 button.colab-df-convert');\n",
              "        buttonEl.style.display =\n",
              "          google.colab.kernel.accessAllowed ? 'block' : 'none';\n",
              "\n",
              "        async function convertToInteractive(key) {\n",
              "          const element = document.querySelector('#df-dbf0e865-c629-4d4b-aabb-ec12114eaa21');\n",
              "          const dataTable =\n",
              "            await google.colab.kernel.invokeFunction('convertToInteractive',\n",
              "                                                     [key], {});\n",
              "          if (!dataTable) return;\n",
              "\n",
              "          const docLinkHtml = 'Like what you see? Visit the ' +\n",
              "            '<a target=\"_blank\" href=https://colab.research.google.com/notebooks/data_table.ipynb>data table notebook</a>'\n",
              "            + ' to learn more about interactive tables.';\n",
              "          element.innerHTML = '';\n",
              "          dataTable['output_type'] = 'display_data';\n",
              "          await google.colab.output.renderOutput(dataTable, element);\n",
              "          const docLink = document.createElement('div');\n",
              "          docLink.innerHTML = docLinkHtml;\n",
              "          element.appendChild(docLink);\n",
              "        }\n",
              "      </script>\n",
              "    </div>\n",
              "  </div>\n",
              "  "
            ]
          },
          "metadata": {},
          "execution_count": 258
        }
      ]
    }
  ]
}