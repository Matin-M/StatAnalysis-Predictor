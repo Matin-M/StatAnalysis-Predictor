{
  "cells": [
    {
      "cell_type": "code",
      "execution_count": 29,
      "metadata": {
        "id": "6uu75UaaAwAB",
        "outputId": "ad947db6-5e43-4781-bd72-8cc7fa820c42",
        "colab": {
          "base_uri": "https://localhost:8080/"
        }
      },
      "outputs": [
        {
          "output_type": "stream",
          "name": "stdout",
          "text": [
            "Drive already mounted at /content/drive; to attempt to forcibly remount, call drive.mount(\"/content/drive\", force_remount=True).\n"
          ]
        }
      ],
      "source": [
        "import pandas as pd\n",
        "from google.colab import drive\n",
        "drive.mount('/content/drive')\n",
        "technical_indicators_scaled = pd.read_csv('/content/drive/My Drive/technical_indicators_scaled.csv', index_col=0)\n",
        "ticker_data = pd.read_csv('/content/drive/My Drive/ticker_data.csv', index_col=0)"
      ]
    },
    {
      "cell_type": "code",
      "source": [
        "# Define a function to label the data based on the fixed number of hours (d)\n",
        "def label_data_fixed_days(row_index, d, close_prices, binary=True):\n",
        "    if row_index + d >= len(close_prices):\n",
        "        return None\n",
        "    current_price = close_prices.iloc[row_index]\n",
        "    future_price = close_prices.iloc[row_index + d]\n",
        "    if binary:\n",
        "        return 1 if future_price > current_price else 0\n",
        "    else:\n",
        "        return 1 if future_price > current_price else -1\n"
      ],
      "metadata": {
        "id": "mNnwl28fiSEs"
      },
      "execution_count": 30,
      "outputs": []
    },
    {
      "cell_type": "code",
      "execution_count": 31,
      "metadata": {
        "colab": {
          "base_uri": "https://localhost:8080/"
        },
        "id": "uIPqNvfXCgS8",
        "outputId": "e431c43f-1312-4765-b54f-336454715b01"
      },
      "outputs": [
        {
          "output_type": "stream",
          "name": "stdout",
          "text": [
            "26/26 [==============================] - 0s 2ms/step\n",
            "26/26 [==============================] - 0s 2ms/step\n",
            "26/26 [==============================] - 0s 2ms/step\n",
            "26/26 [==============================] - 0s 3ms/step\n",
            "26/26 [==============================] - 0s 2ms/step\n",
            "d = 1, Average accuracy: 0.5060532687651332\n",
            "26/26 [==============================] - 0s 2ms/step\n",
            "26/26 [==============================] - 0s 2ms/step\n",
            "26/26 [==============================] - 0s 2ms/step\n",
            "26/26 [==============================] - 0s 2ms/step\n",
            "26/26 [==============================] - 0s 2ms/step\n",
            "d = 2, Average accuracy: 0.5234866828087167\n",
            "26/26 [==============================] - 1s 3ms/step\n",
            "26/26 [==============================] - 0s 2ms/step\n",
            "26/26 [==============================] - 0s 2ms/step\n",
            "26/26 [==============================] - 0s 2ms/step\n",
            "26/26 [==============================] - 0s 2ms/step\n",
            "d = 3, Average accuracy: 0.5406779661016948\n",
            "26/26 [==============================] - 1s 3ms/step\n",
            "26/26 [==============================] - 0s 2ms/step\n",
            "26/26 [==============================] - 0s 2ms/step\n",
            "26/26 [==============================] - 0s 2ms/step\n",
            "26/26 [==============================] - 0s 2ms/step\n",
            "d = 4, Average accuracy: 0.5454545454545455\n",
            "26/26 [==============================] - 0s 2ms/step\n",
            "26/26 [==============================] - 0s 2ms/step\n",
            "26/26 [==============================] - 0s 2ms/step\n",
            "26/26 [==============================] - 0s 2ms/step\n",
            "26/26 [==============================] - 0s 2ms/step\n",
            "d = 5, Average accuracy: 0.5507878787878788\n",
            "26/26 [==============================] - 0s 2ms/step\n",
            "26/26 [==============================] - 0s 2ms/step\n",
            "26/26 [==============================] - 0s 2ms/step\n",
            "26/26 [==============================] - 0s 2ms/step\n",
            "26/26 [==============================] - 0s 2ms/step\n",
            "d = 6, Average accuracy: 0.5578181818181818\n",
            "26/26 [==============================] - 0s 2ms/step\n",
            "26/26 [==============================] - 0s 3ms/step\n",
            "26/26 [==============================] - 0s 2ms/step\n",
            "26/26 [==============================] - 0s 2ms/step\n",
            "26/26 [==============================] - 0s 3ms/step\n",
            "d = 7, Average accuracy: 0.5658181818181818\n",
            "26/26 [==============================] - 0s 2ms/step\n",
            "26/26 [==============================] - 0s 3ms/step\n",
            "26/26 [==============================] - 0s 2ms/step\n",
            "26/26 [==============================] - 0s 3ms/step\n",
            "26/26 [==============================] - 0s 3ms/step\n",
            "d = 8, Average accuracy: 0.5612121212121212\n",
            "26/26 [==============================] - 0s 2ms/step\n",
            "26/26 [==============================] - 0s 3ms/step\n",
            "26/26 [==============================] - 0s 2ms/step\n",
            "26/26 [==============================] - 0s 2ms/step\n",
            "26/26 [==============================] - 0s 3ms/step\n",
            "d = 9, Average accuracy: 0.5735757575757575\n",
            "26/26 [==============================] - 0s 2ms/step\n",
            "26/26 [==============================] - 0s 2ms/step\n",
            "26/26 [==============================] - 0s 2ms/step\n",
            "26/26 [==============================] - 0s 2ms/step\n",
            "26/26 [==============================] - 0s 2ms/step\n",
            "d = 10, Average accuracy: 0.5771844660194174\n",
            "26/26 [==============================] - 1s 2ms/step\n",
            "26/26 [==============================] - 0s 2ms/step\n",
            "26/26 [==============================] - 0s 3ms/step\n",
            "26/26 [==============================] - 0s 2ms/step\n",
            "26/26 [==============================] - 0s 2ms/step\n",
            "d = 11, Average accuracy: 0.5764563106796116\n",
            "26/26 [==============================] - 0s 2ms/step\n",
            "26/26 [==============================] - 0s 2ms/step\n",
            "26/26 [==============================] - 0s 2ms/step\n",
            "26/26 [==============================] - 0s 2ms/step\n",
            "26/26 [==============================] - 0s 2ms/step\n",
            "d = 12, Average accuracy: 0.5968446601941748\n",
            "26/26 [==============================] - 0s 2ms/step\n",
            "26/26 [==============================] - 0s 2ms/step\n",
            "26/26 [==============================] - 0s 2ms/step\n",
            "26/26 [==============================] - 0s 3ms/step\n",
            "26/26 [==============================] - 0s 2ms/step\n",
            "d = 13, Average accuracy: 0.5910194174757282\n",
            "26/26 [==============================] - 0s 2ms/step\n",
            "26/26 [==============================] - 0s 2ms/step\n",
            "26/26 [==============================] - 0s 2ms/step\n",
            "26/26 [==============================] - 0s 2ms/step\n",
            "26/26 [==============================] - 0s 3ms/step\n",
            "d = 14, Average accuracy: 0.6157766990291262\n",
            "Best d value: 14, with average accuracy: 0.6157766990291262\n",
            "\n",
            "Classification report:\n",
            "              precision    recall  f1-score   support\n",
            "\n",
            "           0       0.59      0.62      0.60      1929\n",
            "           1       0.65      0.62      0.63      2191\n",
            "\n",
            "    accuracy                           0.62      4120\n",
            "   macro avg       0.62      0.62      0.62      4120\n",
            "weighted avg       0.62      0.62      0.62      4120\n",
            "\n"
          ]
        }
      ],
      "source": [
        "import numpy as np\n",
        "import pandas as pd\n",
        "from sklearn.model_selection import TimeSeriesSplit\n",
        "from tensorflow.keras.models import Sequential\n",
        "from tensorflow.keras.layers import LSTM, Dense, Dropout\n",
        "from tensorflow.keras.optimizers import Adam\n",
        "from sklearn.metrics import accuracy_score, classification_report\n",
        "\n",
        "d_values = list(range(1, 15))  # Test different values of d\n",
        "best_d, best_model, best_accuracy, best_report = None, None, 0, None\n",
        "\n",
        "for d in d_values:\n",
        "    # Label the data using the current value of d\n",
        "    technical_indicators_scaled['Label'] = 0\n",
        "    for idx in range(len(technical_indicators_scaled)):\n",
        "        binary_label = label_data_fixed_days(idx, d, ticker_data['Close'], binary=True)\n",
        "        if binary_label is not None:\n",
        "            technical_indicators_scaled.loc[technical_indicators_scaled.index[idx], 'Label'] = binary_label\n",
        "\n",
        "    y = technical_indicators_scaled['Label'].values\n",
        "    X = technical_indicators_scaled.drop(columns=['Label'])\n",
        "\n",
        "    # Remove the last d rows\n",
        "    X = X.iloc[:-d]\n",
        "    y = y[:-d]\n",
        "\n",
        "    # Reshape the input data into a 3D array as required by LSTM\n",
        "    n_features = X.shape[1]\n",
        "    X = X.to_numpy().reshape(-1, 1, n_features)\n",
        "\n",
        "    # Define the LSTM model\n",
        "    model = Sequential()\n",
        "    model.add(LSTM(units=150, activation='tanh', input_shape=(1, n_features)))\n",
        "    model.add(Dropout(0.4))\n",
        "    model.add(Dense(1, activation='sigmoid'))\n",
        "    model.compile(optimizer=Adam(learning_rate=0.001), loss='binary_crossentropy', metrics=['accuracy'])\n",
        "\n",
        "    tscv = TimeSeriesSplit(n_splits=5)\n",
        "    accuracy_scores = []\n",
        "    y_true_all = []\n",
        "    y_pred_all = []\n",
        "\n",
        "    for train_index, test_index in tscv.split(X):\n",
        "        X_train, X_test = X[train_index], X[test_index]\n",
        "        y_train, y_test = y[train_index], y[test_index]\n",
        "\n",
        "        # Train the model\n",
        "        model.fit(X_train, y_train, epochs=200, batch_size=64, verbose=0)\n",
        "\n",
        "        # Evaluate the model\n",
        "        y_pred = (model.predict(X_test) > 0.5).astype(\"int32\")\n",
        "        accuracy = accuracy_score(y_test, y_pred)\n",
        "        accuracy_scores.append(accuracy)\n",
        "\n",
        "        y_true_all.extend(y_test)\n",
        "        y_pred_all.extend(y_pred.flatten())\n",
        "\n",
        "    # Calculate the average accuracy\n",
        "    average_accuracy = np.mean(accuracy_scores)\n",
        "\n",
        "    if average_accuracy > best_accuracy:\n",
        "        best_d = d\n",
        "        best_accuracy = average_accuracy\n",
        "        best_model = model\n",
        "        best_report = classification_report(y_true_all, y_pred_all)\n",
        "\n",
        "    print(f\"d = {d}, Average accuracy: {average_accuracy}\")\n",
        "\n",
        "print(f\"Best d value: {best_d}, with average accuracy: {best_accuracy}\")\n",
        "print(\"\\nClassification report:\")\n",
        "print(best_report)\n"
      ]
    },
    {
      "cell_type": "code",
      "source": [
        "from google.colab import drive\n",
        "drive.mount('/content/drive')"
      ],
      "metadata": {
        "id": "y4_-O999VVSR",
        "outputId": "35c5d219-79b9-4346-c21f-2ab67478a271",
        "colab": {
          "base_uri": "https://localhost:8080/"
        }
      },
      "execution_count": 32,
      "outputs": [
        {
          "output_type": "stream",
          "name": "stdout",
          "text": [
            "Drive already mounted at /content/drive; to attempt to forcibly remount, call drive.mount(\"/content/drive\", force_remount=True).\n"
          ]
        }
      ]
    }
  ],
  "metadata": {
    "colab": {
      "provenance": []
    },
    "kernelspec": {
      "display_name": "Python 3 (ipykernel)",
      "language": "python",
      "name": "python3"
    },
    "accelerator": "GPU",
    "gpuClass": "standard"
  },
  "nbformat": 4,
  "nbformat_minor": 0
}