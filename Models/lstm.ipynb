{
  "cells": [
    {
      "cell_type": "code",
      "execution_count": 15,
      "metadata": {
        "id": "6uu75UaaAwAB"
      },
      "outputs": [],
      "source": [
        "import pandas as pd\n",
        "technical_indicators_binary = pd.read_csv('/content/technical_indicators_binary.csv', index_col=0)"
      ]
    },
    {
      "cell_type": "code",
      "execution_count": 16,
      "metadata": {
        "colab": {
          "base_uri": "https://localhost:8080/"
        },
        "id": "uIPqNvfXCgS8",
        "outputId": "22654a4e-a13b-49ae-e1c0-f464a5448eb5"
      },
      "outputs": [
        {
          "name": "stdout",
          "output_type": "stream",
          "text": [
            "26/26 [==============================] - 0s 3ms/step\n",
            "26/26 [==============================] - 0s 2ms/step\n",
            "26/26 [==============================] - 0s 3ms/step\n",
            "26/26 [==============================] - 0s 2ms/step\n",
            "26/26 [==============================] - 0s 2ms/step\n",
            "Average accuracy: 0.5575757575757575\n",
            "\n",
            "Classification report:\n",
            "              precision    recall  f1-score   support\n",
            "\n",
            "           0       0.55      0.45      0.49      2002\n",
            "           1       0.56      0.66      0.61      2123\n",
            "\n",
            "    accuracy                           0.56      4125\n",
            "   macro avg       0.56      0.55      0.55      4125\n",
            "weighted avg       0.56      0.56      0.55      4125\n",
            "\n"
          ]
        }
      ],
      "source": [
        "import numpy as np\n",
        "import pandas as pd\n",
        "from sklearn.preprocessing import MinMaxScaler\n",
        "from sklearn.model_selection import TimeSeriesSplit\n",
        "from tensorflow.keras.models import Sequential\n",
        "from tensorflow.keras.layers import LSTM, Dense, Dropout\n",
        "from tensorflow.keras.optimizers import Adam\n",
        "from sklearn.metrics import accuracy_score, classification_report\n",
        "\n",
        "# Normalize the features\n",
        "scaler = MinMaxScaler()\n",
        "X = scaler.fit_transform(technical_indicators_binary.drop(columns=['Label']))\n",
        "y = technical_indicators_binary['Label'].values\n",
        "\n",
        "# Reshape the input data into a 3D array as required by LSTM\n",
        "n_features = X.shape[1]\n",
        "X = X.reshape(-1, 1, n_features)\n",
        "\n",
        "# Define the LSTM model\n",
        "model = Sequential()\n",
        "model.add(LSTM(units=150, activation='relu', input_shape=(1, n_features)))\n",
        "model.add(Dropout(0.4))\n",
        "model.add(Dense(1, activation='sigmoid'))\n",
        "model.compile(optimizer=Adam(learning_rate=0.001), loss='binary_crossentropy', metrics=['accuracy'])\n",
        "\n",
        "tscv = TimeSeriesSplit(n_splits=5)\n",
        "accuracy_scores = []\n",
        "y_true_all = []\n",
        "y_pred_all = []\n",
        "\n",
        "for train_index, test_index in tscv.split(X):\n",
        "    X_train, X_test = X[train_index], X[test_index]\n",
        "    y_train, y_test = y[train_index], y[test_index]\n",
        "\n",
        "    # Train the model\n",
        "    model.fit(X_train, y_train, epochs=200, batch_size=128, verbose=0)\n",
        "\n",
        "    # Evaluate the model\n",
        "    y_pred = (model.predict(X_test) > 0.5).astype(\"int32\")\n",
        "    accuracy = accuracy_score(y_test, y_pred)\n",
        "    accuracy_scores.append(accuracy)\n",
        "\n",
        "    y_true_all.extend(y_test)\n",
        "    y_pred_all.extend(y_pred.flatten())\n",
        "\n",
        "# Calculate the average accuracy\n",
        "average_accuracy = np.mean(accuracy_scores)\n",
        "print(\"Average accuracy:\", average_accuracy)\n",
        "\n",
        "# Print the classification report\n",
        "print(\"\\nClassification report:\")\n",
        "print(classification_report(y_true_all, y_pred_all))\n"
      ]
    }
  ],
  "metadata": {
    "colab": {
      "provenance": []
    },
    "kernelspec": {
      "display_name": "Python 3 (ipykernel)",
      "language": "python",
      "name": "python3"
    }
  },
  "nbformat": 4,
  "nbformat_minor": 0
}
