{
  "cells": [
    {
      "cell_type": "code",
      "execution_count": 1,
      "metadata": {
        "id": "6uu75UaaAwAB",
        "outputId": "4980a330-4b84-49eb-9343-bf489d078d28",
        "colab": {
          "base_uri": "https://localhost:8080/"
        }
      },
      "outputs": [
        {
          "output_type": "stream",
          "name": "stdout",
          "text": [
            "Mounted at /content/drive\n"
          ]
        }
      ],
      "source": [
        "import pandas as pd\n",
        "from google.colab import drive\n",
        "drive.mount('/content/drive')\n",
        "technical_indicators_scaled_day = pd.read_csv('/content/drive/My Drive/technical_indicators_scaled_day.csv', index_col=0)\n",
        "ticker_data_day = pd.read_csv('/content/drive/My Drive/ticker_data_day.csv', index_col=0)"
      ]
    },
    {
      "cell_type": "code",
      "source": [
        "# Define a function to label the data based on the fixed number of days (d)\n",
        "def label_data_fixed_days(row_index, d, close_prices, binary=True):\n",
        "    if row_index + d >= len(close_prices):\n",
        "        return None\n",
        "    current_price = close_prices.iloc[row_index]\n",
        "    future_price = close_prices.iloc[row_index + d]\n",
        "    if binary:\n",
        "        return 1 if future_price > current_price else 0\n",
        "    else:\n",
        "        return 1 if future_price > current_price else -1\n"
      ],
      "metadata": {
        "id": "mNnwl28fiSEs"
      },
      "execution_count": 2,
      "outputs": []
    },
    {
      "cell_type": "code",
      "execution_count": 3,
      "metadata": {
        "colab": {
          "base_uri": "https://localhost:8080/",
          "height": 1000
        },
        "id": "uIPqNvfXCgS8",
        "outputId": "bdb0bc7e-bf26-4745-d1f2-56b054d9fb07"
      },
      "outputs": [
        {
          "output_type": "stream",
          "name": "stdout",
          "text": [
            "15/15 [==============================] - 1s 4ms/step\n",
            "15/15 [==============================] - 0s 3ms/step\n",
            "15/15 [==============================] - 0s 2ms/step\n",
            "15/15 [==============================] - 0s 7ms/step\n",
            "15/15 [==============================] - 0s 3ms/step\n",
            "d = 10, Average accuracy: 0.5259911894273127\n",
            "15/15 [==============================] - 0s 2ms/step\n",
            "15/15 [==============================] - 0s 4ms/step\n",
            "15/15 [==============================] - 0s 4ms/step\n",
            "15/15 [==============================] - 0s 5ms/step\n",
            "15/15 [==============================] - 0s 2ms/step\n",
            "d = 11, Average accuracy: 0.5334801762114537\n",
            "15/15 [==============================] - 1s 5ms/step\n",
            "15/15 [==============================] - 0s 3ms/step\n",
            "15/15 [==============================] - 0s 3ms/step\n",
            "15/15 [==============================] - 0s 3ms/step\n",
            "15/15 [==============================] - 0s 2ms/step\n",
            "d = 12, Average accuracy: 0.5637969094922738\n",
            "15/15 [==============================] - 1s 4ms/step\n",
            "15/15 [==============================] - 0s 4ms/step\n",
            "15/15 [==============================] - 0s 3ms/step\n",
            "15/15 [==============================] - 0s 3ms/step\n",
            "15/15 [==============================] - 0s 5ms/step\n",
            "d = 13, Average accuracy: 0.5536423841059603\n",
            "15/15 [==============================] - 1s 3ms/step\n",
            "15/15 [==============================] - 0s 3ms/step\n",
            "15/15 [==============================] - 0s 3ms/step\n",
            "15/15 [==============================] - 0s 2ms/step\n",
            "15/15 [==============================] - 0s 2ms/step\n",
            "d = 14, Average accuracy: 0.590728476821192\n",
            "15/15 [==============================] - 0s 3ms/step\n",
            "15/15 [==============================] - 0s 4ms/step\n",
            "15/15 [==============================] - 0s 3ms/step\n",
            "15/15 [==============================] - 0s 3ms/step\n",
            "15/15 [==============================] - 0s 3ms/step\n",
            "d = 15, Average accuracy: 0.7214128035320089\n",
            "15/15 [==============================] - 0s 3ms/step\n",
            "15/15 [==============================] - 0s 2ms/step\n",
            "15/15 [==============================] - 0s 3ms/step\n",
            "15/15 [==============================] - 0s 3ms/step\n",
            "15/15 [==============================] - 0s 3ms/step\n",
            "d = 16, Average accuracy: 0.7311258278145696\n",
            "15/15 [==============================] - 1s 3ms/step\n",
            "15/15 [==============================] - 0s 3ms/step\n",
            "15/15 [==============================] - 0s 3ms/step\n",
            "15/15 [==============================] - 0s 3ms/step\n",
            "15/15 [==============================] - 0s 3ms/step\n",
            "d = 17, Average accuracy: 0.7456953642384105\n",
            "15/15 [==============================] - 0s 2ms/step\n",
            "15/15 [==============================] - 0s 3ms/step\n",
            "15/15 [==============================] - 0s 3ms/step\n",
            "15/15 [==============================] - 0s 3ms/step\n",
            "15/15 [==============================] - 0s 3ms/step\n",
            "d = 18, Average accuracy: 0.7619469026548672\n",
            "15/15 [==============================] - 0s 3ms/step\n",
            "15/15 [==============================] - 0s 4ms/step\n",
            "15/15 [==============================] - 0s 4ms/step\n",
            "15/15 [==============================] - 0s 4ms/step\n",
            "15/15 [==============================] - 0s 3ms/step\n",
            "d = 19, Average accuracy: 0.7676991150442477\n",
            "15/15 [==============================] - 1s 4ms/step\n",
            "15/15 [==============================] - 0s 5ms/step\n",
            "15/15 [==============================] - 0s 3ms/step\n",
            "15/15 [==============================] - 0s 4ms/step\n",
            "15/15 [==============================] - 0s 3ms/step\n",
            "d = 20, Average accuracy: 0.779646017699115\n",
            "15/15 [==============================] - 0s 3ms/step\n",
            "15/15 [==============================] - 0s 4ms/step\n",
            "15/15 [==============================] - 0s 2ms/step\n",
            "15/15 [==============================] - 0s 2ms/step\n",
            "15/15 [==============================] - 0s 3ms/step\n",
            "d = 21, Average accuracy: 0.7849557522123893\n",
            "15/15 [==============================] - 0s 3ms/step\n",
            "15/15 [==============================] - 0s 6ms/step\n",
            "15/15 [==============================] - 0s 3ms/step\n",
            "15/15 [==============================] - 0s 3ms/step\n",
            "15/15 [==============================] - 0s 4ms/step\n",
            "d = 22, Average accuracy: 0.8150442477876106\n",
            "15/15 [==============================] - 0s 3ms/step\n",
            "15/15 [==============================] - 0s 7ms/step\n",
            "15/15 [==============================] - 0s 4ms/step\n",
            "15/15 [==============================] - 0s 4ms/step\n",
            "15/15 [==============================] - 0s 3ms/step\n",
            "d = 23, Average accuracy: 0.8212389380530973\n",
            "15/15 [==============================] - 0s 2ms/step\n",
            "15/15 [==============================] - 0s 3ms/step\n",
            "15/15 [==============================] - 0s 2ms/step\n",
            "15/15 [==============================] - 0s 2ms/step\n",
            "15/15 [==============================] - 0s 3ms/step\n",
            "d = 24, Average accuracy: 0.834589800443459\n",
            "Best d value: 24, with average accuracy: 0.834589800443459\n",
            "\n",
            "Classification report:\n",
            "              precision    recall  f1-score   support\n",
            "\n",
            "           0       0.79      0.83      0.81       962\n",
            "           1       0.87      0.84      0.85      1293\n",
            "\n",
            "    accuracy                           0.83      2255\n",
            "   macro avg       0.83      0.83      0.83      2255\n",
            "weighted avg       0.84      0.83      0.83      2255\n",
            "\n"
          ]
        },
        {
          "output_type": "display_data",
          "data": {
            "text/plain": [
              "<Figure size 640x480 with 1 Axes>"
            ],
            "image/png": "[encoded data removed]"
          },
          "metadata": {}
        }
      ],
      "source": [
        "import numpy as np\n",
        "import pandas as pd\n",
        "from sklearn.model_selection import TimeSeriesSplit\n",
        "from tensorflow.keras.models import Sequential\n",
        "from tensorflow.keras.layers import LSTM, Dense, Dropout\n",
        "from tensorflow.keras.optimizers import Adam\n",
        "from sklearn.metrics import accuracy_score, classification_report\n",
        "from sklearn.feature_selection import SelectKBest, mutual_info_classif\n",
        "import matplotlib.pyplot as plt\n",
        "\n",
        "d_values = list(range(10, 25))  # Test different values of d\n",
        "best_d, best_model, best_accuracy, best_report = None, None, 0, None\n",
        "accuracy_results = []\n",
        "\n",
        "for d in d_values:\n",
        "    # Label the data using the current value of d\n",
        "    technical_indicators_scaled_day['Label'] = 0\n",
        "    for idx in range(len(technical_indicators_scaled_day)):\n",
        "        binary_label = label_data_fixed_days(idx, d, ticker_data_day['Close'], binary=True)\n",
        "        if binary_label is not None:\n",
        "            technical_indicators_scaled_day.loc[technical_indicators_scaled_day.index[idx], 'Label'] = binary_label\n",
        "\n",
        "    y = technical_indicators_scaled_day['Label'].values\n",
        "    X = technical_indicators_scaled_day.drop(columns=['Label'])\n",
        "\n",
        "    # Remove the last d rows\n",
        "    X = X.iloc[:-d]\n",
        "    y = y[:-d]\n",
        "\n",
        "    k = 7  # Select the top k features\n",
        "    selector = SelectKBest(score_func=mutual_info_classif, k=k)\n",
        "    X_kbest = selector.fit_transform(X, y)\n",
        "    X_kbest = X_kbest.reshape(-1, 1, k)  # Reshape the input data into a 3D array as required by LSTM\n",
        "\n",
        "    # Define the LSTM model\n",
        "    model = Sequential()\n",
        "    model.add(LSTM(units=150, activation='tanh', input_shape=(1, k)))\n",
        "    model.add(Dropout(0.4))\n",
        "    model.add(Dense(1, activation='sigmoid'))\n",
        "    model.compile(optimizer=Adam(learning_rate=0.001), loss='binary_crossentropy', metrics=['accuracy'])\n",
        "\n",
        "    tscv = TimeSeriesSplit(n_splits=5)\n",
        "    accuracy_scores = []\n",
        "    y_true_all = []\n",
        "    y_pred_all = []\n",
        "\n",
        "    for train_index, test_index in tscv.split(X_kbest):\n",
        "        X_train, X_test = X_kbest[train_index], X_kbest[test_index]\n",
        "        y_train, y_test = y[train_index], y[test_index]\n",
        "\n",
        "        # Train the model\n",
        "        model.fit(X_train, y_train, epochs=200, batch_size=64, verbose=0)\n",
        "\n",
        "        # Evaluate the model\n",
        "        y_pred = (model.predict(X_test) > 0.5).astype(\"int32\")\n",
        "        accuracy = accuracy_score(y_test, y_pred)\n",
        "        accuracy_scores.append(accuracy)\n",
        "\n",
        "        y_true_all.extend(y_test)\n",
        "        y_pred_all.extend(y_pred.flatten())\n",
        "\n",
        "    # Calculate the average accuracy\n",
        "    average_accuracy = np.mean(accuracy_scores)\n",
        "    accuracy_results.append(average_accuracy)\n",
        "\n",
        "    if average_accuracy > best_accuracy:\n",
        "        best_d = d\n",
        "        best_accuracy = average_accuracy\n",
        "        best_model = model\n",
        "        best_report = classification_report(y_true_all, y_pred_all)\n",
        "\n",
        "    print(f\"d = {d}, Average accuracy: {average_accuracy}\")\n",
        "\n",
        "print(f\"Best d value: {best_d}, with average accuracy: {best_accuracy}\")\n",
        "print(\"\\nClassification report:\")\n",
        "print(best_report)\n",
        "\n",
        "# Plot the accuracy graph\n",
        "plt.plot(d_values, accuracy_results)\n",
        "plt.xlabel(\"Number of Days\")\n",
        "plt.ylabel(\"Average Accuracy\")\n",
        "plt.title(\"Days vs. Average Accuracy\")\n",
        "plt.show()\n"
      ]
    },
    {
      "cell_type": "code",
      "source": [
        "from google.colab import drive\n",
        "drive.mount('/content/drive')"
      ],
      "metadata": {
        "id": "y4_-O999VVSR",
        "outputId": "3622970c-dd0c-4c80-fd4b-a35d844f40c4",
        "colab": {
          "base_uri": "https://localhost:8080/"
        }
      },
      "execution_count": 4,
      "outputs": [
        {
          "output_type": "stream",
          "name": "stdout",
          "text": [
            "Drive already mounted at /content/drive; to attempt to forcibly remount, call drive.mount(\"/content/drive\", force_remount=True).\n"
          ]
        }
      ]
    }
  ],
  "metadata": {
    "colab": {
      "provenance": []
    },
    "kernelspec": {
      "display_name": "Python 3 (ipykernel)",
      "language": "python",
      "name": "python3"
    },
    "accelerator": "GPU",
    "gpuClass": "standard"
  },
  "nbformat": 4,
  "nbformat_minor": 0
}