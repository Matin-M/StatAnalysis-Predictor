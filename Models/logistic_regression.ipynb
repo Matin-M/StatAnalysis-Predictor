{
 "cells": [
  {
   "cell_type": "code",
   "execution_count": 19,
   "metadata": {},
   "outputs": [],
   "source": [
    "from sklearn.feature_selection import RFE\n",
    "from sklearn.linear_model import LogisticRegression\n",
    "from sklearn.model_selection import train_test_split, cross_val_score\n",
    "from sklearn.metrics import classification_report\n",
    "import numpy as np\n",
    "import pandas as pd\n",
    "\n",
    "technical_indicators_binary = pd.read_csv('/home/jovyan/technical_indicators_binary.csv', index_col=0)"
   ]
  },
  {
   "cell_type": "code",
   "execution_count": 18,
   "metadata": {},
   "outputs": [
    {
     "name": "stdout",
     "output_type": "stream",
     "text": [
      "Selected features:\n",
      "Index(['RSI', 'ADX', 'Stochastic_Oscillator', 'Williams_R', 'OBV'], dtype='object')\n",
      "Classification Report:\n",
      "              precision    recall  f1-score   support\n",
      "\n",
      "           0       0.25      0.00      0.01       321\n",
      "           1       0.57      0.99      0.72       423\n",
      "\n",
      "    accuracy                           0.57       744\n",
      "   macro avg       0.41      0.50      0.36       744\n",
      "weighted avg       0.43      0.57      0.41       744\n",
      "\n",
      "10-fold cross-validation accuracy: 0.58\n"
     ]
    }
   ],
   "source": [
    "# Drop rows with NaN values\n",
    "technical_indicators_binary.dropna(inplace=True)\n",
    "\n",
    "# Separate features and labels\n",
    "X = technical_indicators_binary.drop('Label', axis=1)\n",
    "y = technical_indicators_binary['Label']\n",
    "\n",
    "# Create the logistic regression model\n",
    "logistic_regression_model = LogisticRegression()\n",
    "\n",
    "# Initialize the RFE selector\n",
    "selector = RFE(logistic_regression_model, n_features_to_select=5, step=1)\n",
    "\n",
    "# Fit the selector to the data\n",
    "selector = selector.fit(X, y)\n",
    "\n",
    "# Get the selected features\n",
    "selected_features = X.columns[selector.support_]\n",
    "\n",
    "print(\"Selected features:\")\n",
    "print(selected_features)\n",
    "\n",
    "# Get the feature subset based on the selected features\n",
    "X_selected = selector.transform(X)\n",
    "\n",
    "# Split the data into training and testing sets\n",
    "X_train, X_test, y_train, y_test = train_test_split(X_selected, y, test_size=0.3, random_state=42)\n",
    "\n",
    "# Train the logistic regression model with the selected features\n",
    "logistic_regression_model.fit(X_train, y_train)\n",
    "\n",
    "# Make predictions on the testing set\n",
    "y_pred = logistic_regression_model.predict(X_test)\n",
    "\n",
    "# Print the classification report\n",
    "report = classification_report(y_test, y_pred)\n",
    "print(\"Classification Report:\")\n",
    "print(report)\n",
    "\n",
    "# Perform 10-fold cross-validation\n",
    "cv_scores = cross_val_score(logistic_regression_model, X_selected, y, cv=10)\n",
    "\n",
    "# Calculate the average accuracy across the 10 folds\n",
    "mean_accuracy = np.mean(cv_scores)\n",
    "\n",
    "print(\"10-fold cross-validation accuracy: {:.2f}\".format(mean_accuracy))\n"
   ]
  }
 ],
 "metadata": {
  "kernelspec": {
   "display_name": "Python 3 (ipykernel)",
   "language": "python",
   "name": "python3"
  },
  "language_info": {
   "codemirror_mode": {
    "name": "ipython",
    "version": 3
   },
   "file_extension": ".py",
   "mimetype": "text/x-python",
   "name": "python",
   "nbconvert_exporter": "python",
   "pygments_lexer": "ipython3",
   "version": "3.10.10"
  },
  "orig_nbformat": 4
 },
 "nbformat": 4,
 "nbformat_minor": 2
}
