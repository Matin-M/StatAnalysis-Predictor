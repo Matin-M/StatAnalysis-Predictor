{
  "cells": [
    {
      "cell_type": "code",
      "execution_count": 1,
      "metadata": {
        "id": "_thc9unUk8al",
        "outputId": "9c18b91e-48d1-4307-8b70-5e93a6dca0ba",
        "colab": {
          "base_uri": "https://localhost:8080/"
        }
      },
      "outputs": [
        {
          "output_type": "stream",
          "name": "stdout",
          "text": [
            "Mounted at /content/drive\n"
          ]
        }
      ],
      "source": [
        "import pandas as pd\n",
        "from google.colab import drive\n",
        "drive.mount('/content/drive')\n",
        "technical_indicators_scaled_day = pd.read_csv('/content/drive/My Drive/technical_indicators_scaled_day.csv', index_col=0)\n",
        "ticker_data_day = pd.read_csv('/content/drive/My Drive/ticker_data_day.csv', index_col=0)"
      ]
    },
    {
      "cell_type": "code",
      "source": [
        "# Define a function to label the data based on the fixed number of days (d)\n",
        "def label_data_fixed_days(row_index, d, close_prices, binary=True):\n",
        "    if row_index + d >= len(close_prices):\n",
        "        return None\n",
        "    current_price = close_prices.iloc[row_index]\n",
        "    future_price = close_prices.iloc[row_index + d]\n",
        "    if binary:\n",
        "        return 1 if future_price > current_price else 0\n",
        "    else:\n",
        "        return 1 if future_price > current_price else -1"
      ],
      "metadata": {
        "id": "-VdieAeKlDFc"
      },
      "execution_count": 2,
      "outputs": []
    },
    {
      "cell_type": "code",
      "execution_count": 3,
      "metadata": {
        "id": "MvkTrx3rk8an",
        "outputId": "7b68e803-5730-42c9-b035-81daa04f2bbc",
        "colab": {
          "base_uri": "https://localhost:8080/",
          "height": 1000
        }
      },
      "outputs": [
        {
          "output_type": "stream",
          "name": "stdout",
          "text": [
            "d = 1, Average accuracy: 0.519120879120879\n",
            "d = 2, Average accuracy: 0.5384615384615385\n",
            "d = 3, Average accuracy: 0.5441758241758242\n",
            "d = 4, Average accuracy: 0.5652747252747253\n",
            "d = 5, Average accuracy: 0.5468131868131868\n",
            "d = 6, Average accuracy: 0.5577092511013216\n",
            "d = 7, Average accuracy: 0.5607929515418502\n",
            "d = 8, Average accuracy: 0.5656387665198238\n",
            "d = 9, Average accuracy: 0.5656387665198238\n",
            "d = 10, Average accuracy: 0.5625550660792952\n",
            "d = 11, Average accuracy: 0.5634361233480176\n"
          ]
        },
        {
          "output_type": "stream",
          "name": "stderr",
          "text": [
            "/usr/local/lib/python3.9/dist-packages/sklearn/metrics/_classification.py:1344: UndefinedMetricWarning: Precision and F-score are ill-defined and being set to 0.0 in labels with no predicted samples. Use `zero_division` parameter to control this behavior.\n",
            "  _warn_prf(average, modifier, msg_start, len(result))\n",
            "/usr/local/lib/python3.9/dist-packages/sklearn/metrics/_classification.py:1344: UndefinedMetricWarning: Precision and F-score are ill-defined and being set to 0.0 in labels with no predicted samples. Use `zero_division` parameter to control this behavior.\n",
            "  _warn_prf(average, modifier, msg_start, len(result))\n",
            "/usr/local/lib/python3.9/dist-packages/sklearn/metrics/_classification.py:1344: UndefinedMetricWarning: Precision and F-score are ill-defined and being set to 0.0 in labels with no predicted samples. Use `zero_division` parameter to control this behavior.\n",
            "  _warn_prf(average, modifier, msg_start, len(result))\n"
          ]
        },
        {
          "output_type": "stream",
          "name": "stdout",
          "text": [
            "d = 12, Average accuracy: 0.5668874172185431\n",
            "d = 13, Average accuracy: 0.566887417218543\n"
          ]
        },
        {
          "output_type": "stream",
          "name": "stderr",
          "text": [
            "/usr/local/lib/python3.9/dist-packages/sklearn/metrics/_classification.py:1344: UndefinedMetricWarning: Precision and F-score are ill-defined and being set to 0.0 in labels with no predicted samples. Use `zero_division` parameter to control this behavior.\n",
            "  _warn_prf(average, modifier, msg_start, len(result))\n",
            "/usr/local/lib/python3.9/dist-packages/sklearn/metrics/_classification.py:1344: UndefinedMetricWarning: Precision and F-score are ill-defined and being set to 0.0 in labels with no predicted samples. Use `zero_division` parameter to control this behavior.\n",
            "  _warn_prf(average, modifier, msg_start, len(result))\n",
            "/usr/local/lib/python3.9/dist-packages/sklearn/metrics/_classification.py:1344: UndefinedMetricWarning: Precision and F-score are ill-defined and being set to 0.0 in labels with no predicted samples. Use `zero_division` parameter to control this behavior.\n",
            "  _warn_prf(average, modifier, msg_start, len(result))\n"
          ]
        },
        {
          "output_type": "stream",
          "name": "stdout",
          "text": [
            "d = 14, Average accuracy: 0.569094922737307\n",
            "d = 15, Average accuracy: 0.6543046357615894\n",
            "d = 16, Average accuracy: 0.6591611479028697\n",
            "d = 17, Average accuracy: 0.6790286975717439\n",
            "d = 18, Average accuracy: 0.6982300884955752\n",
            "d = 19, Average accuracy: 0.7044247787610619\n",
            "d = 20, Average accuracy: 0.7146017699115045\n",
            "d = 21, Average accuracy: 0.7323008849557523\n",
            "d = 22, Average accuracy: 0.7619469026548671\n",
            "d = 23, Average accuracy: 0.7707964601769912\n",
            "d = 24, Average accuracy: 0.7920177383592018\n",
            "d = 25, Average accuracy: 0.8079822616407982\n",
            "d = 26, Average accuracy: 0.8177383592017737\n",
            "d = 27, Average accuracy: 0.8394678492239468\n",
            "d = 28, Average accuracy: 0.8452328159645234\n",
            "d = 29, Average accuracy: 0.8558758314855875\n",
            "d = 30, Average accuracy: 0.8604444444444445\n",
            "d = 31, Average accuracy: 0.863111111111111\n",
            "d = 32, Average accuracy: 0.8648888888888889\n",
            "d = 33, Average accuracy: 0.8653333333333334\n",
            "d = 34, Average accuracy: 0.844\n",
            "d = 35, Average accuracy: 0.8444444444444444\n",
            "d = 36, Average accuracy: 0.8396436525612472\n",
            "d = 37, Average accuracy: 0.8334075723830736\n",
            "d = 38, Average accuracy: 0.8244988864142538\n",
            "d = 39, Average accuracy: 0.8173719376391982\n",
            "Best d value: 33, with average accuracy: 0.8653333333333334\n",
            "\n",
            "Classification report:\n",
            "              precision    recall  f1-score   support\n",
            "\n",
            "           0       0.85      0.80      0.82       889\n",
            "           1       0.88      0.91      0.89      1361\n",
            "\n",
            "    accuracy                           0.87      2250\n",
            "   macro avg       0.86      0.85      0.86      2250\n",
            "weighted avg       0.86      0.87      0.86      2250\n",
            "\n"
          ]
        },
        {
          "output_type": "display_data",
          "data": {
            "text/plain": [
              "<Figure size 640x480 with 1 Axes>"
            ],
            "image/png": "[encoded data removed]"
          },
          "metadata": {}
        }
      ],
      "source": [
        "import numpy as np\n",
        "import pandas as pd\n",
        "from sklearn.model_selection import TimeSeriesSplit\n",
        "from sklearn.linear_model import LogisticRegression\n",
        "from sklearn.metrics import accuracy_score, classification_report\n",
        "from sklearn.feature_selection import SelectKBest, mutual_info_classif\n",
        "import matplotlib.pyplot as plt\n",
        "\n",
        "d_values = list(range(1, 40))  # Test different values of d\n",
        "best_d, best_model, best_accuracy, best_report = None, None, 0, None\n",
        "accuracy_results = []\n",
        "\n",
        "for d in d_values:\n",
        "    # Label the data using the current value of d\n",
        "    technical_indicators_scaled_day['Label'] = 0\n",
        "    for idx in range(len(technical_indicators_scaled_day)):\n",
        "        binary_label = label_data_fixed_days(idx, d, ticker_data_day['Close'], binary=True)\n",
        "        if binary_label is not None:\n",
        "            technical_indicators_scaled_day.loc[technical_indicators_scaled_day.index[idx], 'Label'] = binary_label\n",
        "\n",
        "    y = technical_indicators_scaled_day['Label'].values\n",
        "    X = technical_indicators_scaled_day.drop(columns=['Label'])\n",
        "\n",
        "    # Remove the last d rows\n",
        "    X = X.iloc[:-d]\n",
        "    y = y[:-d]\n",
        "\n",
        "    k = 7  # Select the top k features\n",
        "    selector = SelectKBest(score_func=mutual_info_classif, k=k)\n",
        "    X_kbest = selector.fit_transform(X, y)\n",
        "\n",
        "    # Define the logistic regression model\n",
        "    model = LogisticRegression()\n",
        "\n",
        "    tscv = TimeSeriesSplit(n_splits=5)\n",
        "    accuracy_scores = []\n",
        "    y_true_all = []\n",
        "    y_pred_all = []\n",
        "\n",
        "    for train_index, test_index in tscv.split(X_kbest):\n",
        "        X_train, X_test = X_kbest[train_index], X_kbest[test_index]\n",
        "        y_train, y_test = y[train_index], y[test_index]\n",
        "\n",
        "        # Train the model\n",
        "        model.fit(X_train, y_train)\n",
        "\n",
        "        # Evaluate the model\n",
        "        y_pred = model.predict(X_test)\n",
        "        accuracy = accuracy_score(y_test, y_pred)\n",
        "        accuracy_scores.append(accuracy)\n",
        "\n",
        "        y_true_all.extend(y_test)\n",
        "        y_pred_all.extend(y_pred.flatten())\n",
        "\n",
        "    # Calculate the average accuracy\n",
        "    average_accuracy = np.mean(accuracy_scores)\n",
        "    accuracy_results.append(average_accuracy)\n",
        "\n",
        "    if average_accuracy > best_accuracy:\n",
        "        best_d = d\n",
        "        best_accuracy = average_accuracy\n",
        "        best_model = model\n",
        "        best_report = classification_report(y_true_all, y_pred_all)\n",
        "\n",
        "    print(f\"d = {d}, Average accuracy: {average_accuracy}\")\n",
        "\n",
        "print(f\"Best d value: {best_d}, with average accuracy: {best_accuracy}\")\n",
        "print(\"\\nClassification report:\")\n",
        "print(best_report)\n",
        "\n",
        "# Plot the accuracy graph\n",
        "plt.plot(d_values, accuracy_results)\n",
        "plt.xlabel(\"Number of Days\")\n",
        "plt.ylabel(\"Average Accuracy\")\n",
        "plt.title(\"Days vs. Average Accuracy\")\n",
        "plt.show()"
      ]
    }
  ],
  "metadata": {
    "kernelspec": {
      "display_name": "Python 3 (ipykernel)",
      "language": "python",
      "name": "python3"
    },
    "language_info": {
      "codemirror_mode": {
        "name": "ipython",
        "version": 3
      },
      "file_extension": ".py",
      "mimetype": "text/x-python",
      "name": "python",
      "nbconvert_exporter": "python",
      "pygments_lexer": "ipython3",
      "version": "3.10.10"
    },
    "orig_nbformat": 4,
    "colab": {
      "provenance": []
    }
  },
  "nbformat": 4,
  "nbformat_minor": 0
}